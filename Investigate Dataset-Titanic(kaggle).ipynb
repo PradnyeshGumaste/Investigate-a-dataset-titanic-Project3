{
 "cells": [
  {
   "cell_type": "markdown",
   "metadata": {},
   "source": [
    "# <center>Machine Learning Foundation Nanodegree</center> \n",
    "## <center>Project 3-Titanic Data Investigation</center>\n",
    "*<center>Created by Pradnyesh Gumaste</center>*"
   ]
  },
  {
   "cell_type": "markdown",
   "metadata": {
    "collapsed": true
   },
   "source": [
    "# 1. Introduction\n",
    "\n",
    "The sinking of the RMS Titanic remains to be one of the most catastrophic event occured in the history of Sea Travel. The humoungous ship during her inaugral voyage sank into the unfathomable North Atlantic Ocean on April 15, 1912 after colling with an unprecedented iceberg, killing 1502 out of 2224 passengers and crew. This sensational tragedy shocked the international community and hence led to better safety regulations for sea travel.\n",
    "\n",
    "One of the major reasons responsible for such a tragic large scale loss of life was due to the inadequate supply of lifeboatds on the ship for the crew and passengers. Although there was some element of luck involved in surviving the sinking, some groups of people were more likely to survive than others, such as women, children, and the upper-class.\n",
    "\n",
    "## 1.1 About the dataset\n",
    "\n",
    "The dataset of study contains demographics and passenger information from 891 of the 2224 passengers and crew on board the Titanic. The variables included are:\n",
    "\n",
    "----------------------------\n",
    "| variable | \tDefinition | \n",
    "|:---------: |:-------------------------------------------:|\n",
    "| survival | Survival <br>(0 = No; 1 = Yes) |\n",
    "| pclass   | Passenger Class <br>(1 = 1st; 2 = 2nd; 3 = 3rd)|\n",
    "| name     | Name |\n",
    "| sex      | Sex  |\n",
    "| age      | Age  |\n",
    "| sibsp    | Number of Siblings/Spouses Aboard |\n",
    "| parch    | Number of Parents/Children Aboard |\n",
    "| ticket   | Ticket Number |\n",
    "| fare     | Passenger Fare|\n",
    "| cabin    | Cabin |\n",
    "| embarked | Port of Embarkation <br>(C = Cherbourg; Q = Queenstown; S = Southampton) |\n",
    "------------------------------------------------------------------\n",
    "\n",
    "```\n",
    "SPECIAL NOTES:\n",
    "Pclass is a proxy for socio-economic status (SES)\n",
    " 1st ~ Upper; 2nd ~ Middle; 3rd ~ Lower\n",
    "\n",
    "Age is in Years; Fractional if Age less than One (1)\n",
    " If the Age is Estimated, it is in the form xx.5\n",
    "\n",
    "With respect to the family relation variables (i.e. sibsp and parch)\n",
    "some relations were ignored.  The following are the definitions used\n",
    "for sibsp and parch.\n",
    "\n",
    "Sibling:  Brother, Sister, Stepbrother, or Stepsister of Passenger Aboard Titanic\n",
    "Spouse:   Husband or Wife of Passenger Aboard Titanic (Mistresses and Fiances Ignored)\n",
    "Parent:   Mother or Father of Passenger Aboard Titanic\n",
    "Child:    Son, Daughter, Stepson, or Stepdaughter of Passenger Aboard Titanic\n",
    "\n",
    "Other family relatives excluded from this study include cousins,\n",
    "nephews/nieces, aunts/uncles, and in-laws.  Some children travelled\n",
    "only with a nanny, therefore parch=0 for them.  As well, some\n",
    "travelled with very close friends or neighbors in a village, however,\n",
    "the definitions do not support such relations.\n",
    "```"
   ]
  },
  {
   "cell_type": "markdown",
   "metadata": {},
   "source": [
    "# 2. Data Analysis and Data Wrangling\n",
    "## 2.1 Making questions\n",
    "\n",
    "In this analysis we are going to answer some questions and visualize them.\n",
    "\n",
    "   * Is the phrase 'women and children first' valid for this event?\n",
    "   * Did Man with children or spouse had more chances of survival?\n",
    "   * The comparision of survival by Class and Gender.\n",
    "   * Did first class passengers more chances of survive?\n",
    "   * What is the best age for survival in the given data set?\n",
    "   \n",
    "## 2.2 Investigating data\n",
    "\n",
    "First of all lets explore the dataset in order to find surprising data points and fix any problems there could be."
   ]
  },
  {
   "cell_type": "code",
   "execution_count": 1,
   "metadata": {
    "scrolled": true
   },
   "outputs": [
    {
     "name": "stdout",
     "output_type": "stream",
     "text": [
      "Populating the interactive namespace from numpy and matplotlib\n"
     ]
    },
    {
     "data": {
      "text/html": [
       "<div>\n",
       "<style>\n",
       "    .dataframe thead tr:only-child th {\n",
       "        text-align: right;\n",
       "    }\n",
       "\n",
       "    .dataframe thead th {\n",
       "        text-align: left;\n",
       "    }\n",
       "\n",
       "    .dataframe tbody tr th {\n",
       "        vertical-align: top;\n",
       "    }\n",
       "</style>\n",
       "<table border=\"1\" class=\"dataframe\">\n",
       "  <thead>\n",
       "    <tr style=\"text-align: right;\">\n",
       "      <th></th>\n",
       "      <th>PassengerId</th>\n",
       "      <th>Survived</th>\n",
       "      <th>Pclass</th>\n",
       "      <th>Name</th>\n",
       "      <th>Sex</th>\n",
       "      <th>Age</th>\n",
       "      <th>SibSp</th>\n",
       "      <th>Parch</th>\n",
       "      <th>Ticket</th>\n",
       "      <th>Fare</th>\n",
       "      <th>Cabin</th>\n",
       "      <th>Embarked</th>\n",
       "    </tr>\n",
       "  </thead>\n",
       "  <tbody>\n",
       "    <tr>\n",
       "      <th>0</th>\n",
       "      <td>1</td>\n",
       "      <td>0</td>\n",
       "      <td>3</td>\n",
       "      <td>Braund, Mr. Owen Harris</td>\n",
       "      <td>male</td>\n",
       "      <td>22.0</td>\n",
       "      <td>1</td>\n",
       "      <td>0</td>\n",
       "      <td>A/5 21171</td>\n",
       "      <td>7.2500</td>\n",
       "      <td>NaN</td>\n",
       "      <td>S</td>\n",
       "    </tr>\n",
       "    <tr>\n",
       "      <th>1</th>\n",
       "      <td>2</td>\n",
       "      <td>1</td>\n",
       "      <td>1</td>\n",
       "      <td>Cumings, Mrs. John Bradley (Florence Briggs Th...</td>\n",
       "      <td>female</td>\n",
       "      <td>38.0</td>\n",
       "      <td>1</td>\n",
       "      <td>0</td>\n",
       "      <td>PC 17599</td>\n",
       "      <td>71.2833</td>\n",
       "      <td>C85</td>\n",
       "      <td>C</td>\n",
       "    </tr>\n",
       "    <tr>\n",
       "      <th>2</th>\n",
       "      <td>3</td>\n",
       "      <td>1</td>\n",
       "      <td>3</td>\n",
       "      <td>Heikkinen, Miss. Laina</td>\n",
       "      <td>female</td>\n",
       "      <td>26.0</td>\n",
       "      <td>0</td>\n",
       "      <td>0</td>\n",
       "      <td>STON/O2. 3101282</td>\n",
       "      <td>7.9250</td>\n",
       "      <td>NaN</td>\n",
       "      <td>S</td>\n",
       "    </tr>\n",
       "    <tr>\n",
       "      <th>3</th>\n",
       "      <td>4</td>\n",
       "      <td>1</td>\n",
       "      <td>1</td>\n",
       "      <td>Futrelle, Mrs. Jacques Heath (Lily May Peel)</td>\n",
       "      <td>female</td>\n",
       "      <td>35.0</td>\n",
       "      <td>1</td>\n",
       "      <td>0</td>\n",
       "      <td>113803</td>\n",
       "      <td>53.1000</td>\n",
       "      <td>C123</td>\n",
       "      <td>S</td>\n",
       "    </tr>\n",
       "    <tr>\n",
       "      <th>4</th>\n",
       "      <td>5</td>\n",
       "      <td>0</td>\n",
       "      <td>3</td>\n",
       "      <td>Allen, Mr. William Henry</td>\n",
       "      <td>male</td>\n",
       "      <td>35.0</td>\n",
       "      <td>0</td>\n",
       "      <td>0</td>\n",
       "      <td>373450</td>\n",
       "      <td>8.0500</td>\n",
       "      <td>NaN</td>\n",
       "      <td>S</td>\n",
       "    </tr>\n",
       "  </tbody>\n",
       "</table>\n",
       "</div>"
      ],
      "text/plain": [
       "   PassengerId  Survived  Pclass  \\\n",
       "0            1         0       3   \n",
       "1            2         1       1   \n",
       "2            3         1       3   \n",
       "3            4         1       1   \n",
       "4            5         0       3   \n",
       "\n",
       "                                                Name     Sex   Age  SibSp  \\\n",
       "0                            Braund, Mr. Owen Harris    male  22.0      1   \n",
       "1  Cumings, Mrs. John Bradley (Florence Briggs Th...  female  38.0      1   \n",
       "2                             Heikkinen, Miss. Laina  female  26.0      0   \n",
       "3       Futrelle, Mrs. Jacques Heath (Lily May Peel)  female  35.0      1   \n",
       "4                           Allen, Mr. William Henry    male  35.0      0   \n",
       "\n",
       "   Parch            Ticket     Fare Cabin Embarked  \n",
       "0      0         A/5 21171   7.2500   NaN        S  \n",
       "1      0          PC 17599  71.2833   C85        C  \n",
       "2      0  STON/O2. 3101282   7.9250   NaN        S  \n",
       "3      0            113803  53.1000  C123        S  \n",
       "4      0            373450   8.0500   NaN        S  "
      ]
     },
     "execution_count": 1,
     "metadata": {},
     "output_type": "execute_result"
    }
   ],
   "source": [
    "#importing of required modules\n",
    "import numpy as np\n",
    "import pandas as pd\n",
    "import matplotlib.pyplot as plt\n",
    "import seaborn as sns\n",
    "from numbers import Number\n",
    "import ipy_table as tbl\n",
    "from scipy import stats\n",
    "#allow plots and visualisations to be displayed in the report\n",
    "%pylab inline\n",
    "\n",
    "titanic_function = pd.read_csv(\"titanic_data.csv\")\n",
    "titanic_function.head()\n"
   ]
  },
  {
   "cell_type": "markdown",
   "metadata": {},
   "source": [
    "To answer the questions we won't need all the given fields so to clean and prepare the data (if needed) we are going to remove redundant columns and  just take *Survived, Name, Pclass, Sex, Age, SibSp and Parch*."
   ]
  },
  {
   "cell_type": "code",
   "execution_count": 2,
   "metadata": {
    "collapsed": true
   },
   "outputs": [],
   "source": [
    "def as_percent(val, precision='0.2'):\n",
    "    \"\"\"Convert number to percentage string.\"\"\"\n",
    "    if isinstance(val, Number):\n",
    "        return \"{{:{}%}}\".format(precision).format(val)\n",
    "    else:\n",
    "        raise TypeError(\"Numeric type required\")\n",
    "\n",
    "def calculate_percentage(val, total, format_percent = False):\n",
    "    \"\"\"Calculates the percentage of a value over a total\"\"\"\n",
    "    percent = np.divide(val, total, dtype=float)\n",
    "    if format_percent:\n",
    "        percent = as_percent(percent)\n",
    "    return percent"
   ]
  },
  {
   "cell_type": "markdown",
   "metadata": {},
   "source": [
    "We create the above two functions, which we shall be using in the data wrangling section below."
   ]
  },
  {
   "cell_type": "code",
   "execution_count": 4,
   "metadata": {
    "scrolled": true
   },
   "outputs": [
    {
     "data": {
      "text/html": [
       "<div>\n",
       "<style>\n",
       "    .dataframe thead tr:only-child th {\n",
       "        text-align: right;\n",
       "    }\n",
       "\n",
       "    .dataframe thead th {\n",
       "        text-align: left;\n",
       "    }\n",
       "\n",
       "    .dataframe tbody tr th {\n",
       "        vertical-align: top;\n",
       "    }\n",
       "</style>\n",
       "<table border=\"1\" class=\"dataframe\">\n",
       "  <thead>\n",
       "    <tr style=\"text-align: right;\">\n",
       "      <th></th>\n",
       "      <th>Survived</th>\n",
       "      <th>Name</th>\n",
       "      <th>Pclass</th>\n",
       "      <th>Sex</th>\n",
       "      <th>Age</th>\n",
       "      <th>SibSp</th>\n",
       "      <th>Parch</th>\n",
       "    </tr>\n",
       "  </thead>\n",
       "  <tbody>\n",
       "    <tr>\n",
       "      <th>count</th>\n",
       "      <td>891.000000</td>\n",
       "      <td>891</td>\n",
       "      <td>891.000000</td>\n",
       "      <td>891</td>\n",
       "      <td>714.000000</td>\n",
       "      <td>891.000000</td>\n",
       "      <td>891.000000</td>\n",
       "    </tr>\n",
       "    <tr>\n",
       "      <th>unique</th>\n",
       "      <td>NaN</td>\n",
       "      <td>891</td>\n",
       "      <td>NaN</td>\n",
       "      <td>2</td>\n",
       "      <td>NaN</td>\n",
       "      <td>NaN</td>\n",
       "      <td>NaN</td>\n",
       "    </tr>\n",
       "    <tr>\n",
       "      <th>top</th>\n",
       "      <td>NaN</td>\n",
       "      <td>Graham, Mr. George Edward</td>\n",
       "      <td>NaN</td>\n",
       "      <td>male</td>\n",
       "      <td>NaN</td>\n",
       "      <td>NaN</td>\n",
       "      <td>NaN</td>\n",
       "    </tr>\n",
       "    <tr>\n",
       "      <th>freq</th>\n",
       "      <td>NaN</td>\n",
       "      <td>1</td>\n",
       "      <td>NaN</td>\n",
       "      <td>577</td>\n",
       "      <td>NaN</td>\n",
       "      <td>NaN</td>\n",
       "      <td>NaN</td>\n",
       "    </tr>\n",
       "    <tr>\n",
       "      <th>mean</th>\n",
       "      <td>0.383838</td>\n",
       "      <td>NaN</td>\n",
       "      <td>2.308642</td>\n",
       "      <td>NaN</td>\n",
       "      <td>29.699118</td>\n",
       "      <td>0.523008</td>\n",
       "      <td>0.381594</td>\n",
       "    </tr>\n",
       "    <tr>\n",
       "      <th>std</th>\n",
       "      <td>0.486592</td>\n",
       "      <td>NaN</td>\n",
       "      <td>0.836071</td>\n",
       "      <td>NaN</td>\n",
       "      <td>14.526497</td>\n",
       "      <td>1.102743</td>\n",
       "      <td>0.806057</td>\n",
       "    </tr>\n",
       "    <tr>\n",
       "      <th>min</th>\n",
       "      <td>0.000000</td>\n",
       "      <td>NaN</td>\n",
       "      <td>1.000000</td>\n",
       "      <td>NaN</td>\n",
       "      <td>0.420000</td>\n",
       "      <td>0.000000</td>\n",
       "      <td>0.000000</td>\n",
       "    </tr>\n",
       "    <tr>\n",
       "      <th>25%</th>\n",
       "      <td>0.000000</td>\n",
       "      <td>NaN</td>\n",
       "      <td>2.000000</td>\n",
       "      <td>NaN</td>\n",
       "      <td>20.125000</td>\n",
       "      <td>0.000000</td>\n",
       "      <td>0.000000</td>\n",
       "    </tr>\n",
       "    <tr>\n",
       "      <th>50%</th>\n",
       "      <td>0.000000</td>\n",
       "      <td>NaN</td>\n",
       "      <td>3.000000</td>\n",
       "      <td>NaN</td>\n",
       "      <td>28.000000</td>\n",
       "      <td>0.000000</td>\n",
       "      <td>0.000000</td>\n",
       "    </tr>\n",
       "    <tr>\n",
       "      <th>75%</th>\n",
       "      <td>1.000000</td>\n",
       "      <td>NaN</td>\n",
       "      <td>3.000000</td>\n",
       "      <td>NaN</td>\n",
       "      <td>38.000000</td>\n",
       "      <td>1.000000</td>\n",
       "      <td>0.000000</td>\n",
       "    </tr>\n",
       "    <tr>\n",
       "      <th>max</th>\n",
       "      <td>1.000000</td>\n",
       "      <td>NaN</td>\n",
       "      <td>3.000000</td>\n",
       "      <td>NaN</td>\n",
       "      <td>80.000000</td>\n",
       "      <td>8.000000</td>\n",
       "      <td>6.000000</td>\n",
       "    </tr>\n",
       "  </tbody>\n",
       "</table>\n",
       "</div>"
      ],
      "text/plain": [
       "          Survived                       Name      Pclass   Sex         Age  \\\n",
       "count   891.000000                        891  891.000000   891  714.000000   \n",
       "unique         NaN                        891         NaN     2         NaN   \n",
       "top            NaN  Graham, Mr. George Edward         NaN  male         NaN   \n",
       "freq           NaN                          1         NaN   577         NaN   \n",
       "mean      0.383838                        NaN    2.308642   NaN   29.699118   \n",
       "std       0.486592                        NaN    0.836071   NaN   14.526497   \n",
       "min       0.000000                        NaN    1.000000   NaN    0.420000   \n",
       "25%       0.000000                        NaN    2.000000   NaN   20.125000   \n",
       "50%       0.000000                        NaN    3.000000   NaN   28.000000   \n",
       "75%       1.000000                        NaN    3.000000   NaN   38.000000   \n",
       "max       1.000000                        NaN    3.000000   NaN   80.000000   \n",
       "\n",
       "             SibSp       Parch  \n",
       "count   891.000000  891.000000  \n",
       "unique         NaN         NaN  \n",
       "top            NaN         NaN  \n",
       "freq           NaN         NaN  \n",
       "mean      0.523008    0.381594  \n",
       "std       1.102743    0.806057  \n",
       "min       0.000000    0.000000  \n",
       "25%       0.000000    0.000000  \n",
       "50%       0.000000    0.000000  \n",
       "75%       1.000000    0.000000  \n",
       "max       8.000000    6.000000  "
      ]
     },
     "execution_count": 4,
     "metadata": {},
     "output_type": "execute_result"
    }
   ],
   "source": [
    "titanic_function = titanic_function[[\"Survived\", \"Name\", \"Pclass\", \"Sex\", \"Age\", \"SibSp\", \"Parch\"]]\n",
    "titanic_function.describe(include=\"all\")"
   ]
  },
  {
   "cell_type": "markdown",
   "metadata": {},
   "source": [
    "As we can observe in the above table,five of the seven selected field are numeric so the *describe* function is used to show a better summary of them. We can't see anything strange except some missing values in the age field (714/891)."
   ]
  },
  {
   "cell_type": "code",
   "execution_count": 3,
   "metadata": {},
   "outputs": [
    {
     "name": "stdout",
     "output_type": "stream",
     "text": [
      "male      577\n",
      "female    314\n",
      "Name: Sex, dtype: int64\n"
     ]
    }
   ],
   "source": [
    "print titanic_function[\"Sex\"].value_counts()"
   ]
  },
  {
   "cell_type": "markdown",
   "metadata": {},
   "source": [
    "The main problem of this data tends to exist in the missing values of the **age** field. <br>\n",
    "Hence we decide to opt for listwise deletion since representing the ages with the average or linear regression doesnt fit the investigation.  "
   ]
  },
  {
   "cell_type": "code",
   "execution_count": 5,
   "metadata": {},
   "outputs": [
    {
     "data": {
      "text/plain": [
       "714"
      ]
     },
     "execution_count": 5,
     "metadata": {},
     "output_type": "execute_result"
    }
   ],
   "source": [
    "titanic_function = titanic_function[titanic_function[\"Age\"].notnull()]\n",
    "len(titanic_function)"
   ]
  },
  {
   "cell_type": "markdown",
   "metadata": {},
   "source": [
    "## 2.3 Mapping data\n",
    "In order to intrepret the data easier the following fields need to be modified:\n",
    "<ul>\n",
    "<li>Survived - changed to boolean (1 = True, 0 = False)\n",
    "<li>Pclass - changed to Socio-Economic status (1st - Upper Class, 2nd - Middle Class, 3rd - Lower Class)\n",
    "<li>Embarked - changed to name of embarkation port (C = Cherbourg; Q = Queenstown; S = Southampton)\n",
    "</ul>\n",
    "I will also add a Family Size column so that I can compare the size of families with the number of survivors."
   ]
  },
  {
   "cell_type": "code",
   "execution_count": 6,
   "metadata": {},
   "outputs": [
    {
     "data": {
      "text/html": [
       "<div>\n",
       "<style>\n",
       "    .dataframe thead tr:only-child th {\n",
       "        text-align: right;\n",
       "    }\n",
       "\n",
       "    .dataframe thead th {\n",
       "        text-align: left;\n",
       "    }\n",
       "\n",
       "    .dataframe tbody tr th {\n",
       "        vertical-align: top;\n",
       "    }\n",
       "</style>\n",
       "<table border=\"1\" class=\"dataframe\">\n",
       "  <thead>\n",
       "    <tr style=\"text-align: right;\">\n",
       "      <th></th>\n",
       "      <th>Survived</th>\n",
       "      <th>Name</th>\n",
       "      <th>Pclass</th>\n",
       "      <th>Sex</th>\n",
       "      <th>Age</th>\n",
       "      <th>SibSp</th>\n",
       "      <th>Parch</th>\n",
       "      <th>FamilySize</th>\n",
       "    </tr>\n",
       "  </thead>\n",
       "  <tbody>\n",
       "    <tr>\n",
       "      <th>0</th>\n",
       "      <td>False</td>\n",
       "      <td>Braund, Mr. Owen Harris</td>\n",
       "      <td>Lower Class</td>\n",
       "      <td>male</td>\n",
       "      <td>22.0</td>\n",
       "      <td>1</td>\n",
       "      <td>0</td>\n",
       "      <td>1</td>\n",
       "    </tr>\n",
       "    <tr>\n",
       "      <th>1</th>\n",
       "      <td>True</td>\n",
       "      <td>Cumings, Mrs. John Bradley (Florence Briggs Th...</td>\n",
       "      <td>Upper Class</td>\n",
       "      <td>female</td>\n",
       "      <td>38.0</td>\n",
       "      <td>1</td>\n",
       "      <td>0</td>\n",
       "      <td>1</td>\n",
       "    </tr>\n",
       "    <tr>\n",
       "      <th>2</th>\n",
       "      <td>True</td>\n",
       "      <td>Heikkinen, Miss. Laina</td>\n",
       "      <td>Lower Class</td>\n",
       "      <td>female</td>\n",
       "      <td>26.0</td>\n",
       "      <td>0</td>\n",
       "      <td>0</td>\n",
       "      <td>0</td>\n",
       "    </tr>\n",
       "  </tbody>\n",
       "</table>\n",
       "</div>"
      ],
      "text/plain": [
       "   Survived                                               Name       Pclass  \\\n",
       "0     False                            Braund, Mr. Owen Harris  Lower Class   \n",
       "1      True  Cumings, Mrs. John Bradley (Florence Briggs Th...  Upper Class   \n",
       "2      True                             Heikkinen, Miss. Laina  Lower Class   \n",
       "\n",
       "      Sex   Age  SibSp  Parch  FamilySize  \n",
       "0    male  22.0      1      0           1  \n",
       "1  female  38.0      1      0           1  \n",
       "2  female  26.0      0      0           0  "
      ]
     },
     "execution_count": 6,
     "metadata": {},
     "output_type": "execute_result"
    }
   ],
   "source": [
    "def map_data(df):\n",
    "    '''\n",
    "    Function which takes the original dataframe and returns a \n",
    "    clean / updated dataframe\n",
    "    '''\n",
    "    # survived map\n",
    "    survived_map = {0: False, 1: True}\n",
    "    df['Survived'] = df['Survived'].map(survived_map)\n",
    "\n",
    "    # PClass map\n",
    "    pclass_map = {1: 'Upper Class', 2: 'Middle Class', 3: 'Lower Class'}\n",
    "    df['Pclass'] = df['Pclass'].map(pclass_map)\n",
    "    \n",
    "    # add new column (FamilySize) to dataframe - sum of SibSp and Parch\n",
    "    df['FamilySize'] = df['SibSp'] + df['Parch']\n",
    "    \n",
    "    return df\n",
    "\n",
    "titanic_function = map_data(titanic_function)\n",
    "titanic_function.head(3)"
   ]
  },
  {
   "cell_type": "markdown",
   "metadata": {},
   "source": [
    "## 2.4 Number of Survivors\n",
    "Before trying to determine the characteristics of a passenger that would make them more likely to survive, the number of survivors in the sample should be compared to the actual number of survivors. Based on the information provided by the source of the dataset (Kaggle) there were 2224 passengers and 722 survivors.\n"
   ]
  },
  {
   "cell_type": "code",
   "execution_count": 7,
   "metadata": {},
   "outputs": [
    {
     "data": {
      "text/html": [
       "<table border=\"1\" cellpadding=\"3\" cellspacing=\"0\"  style=\"border:1px solid black;border-collapse:collapse;\"><tr><td>Item</td><td>Kaggle&nbsp(Count)</td><td>Kaggle&nbsp(%)</td><td>Sample&nbspDataset&nbsp(Count)</td><td>Sample&nbspDataset&nbsp(%)</td></tr><tr><td>Total&nbspPassengers</td><td>2224</td><td>-</td><td>714</td><td>-</td></tr><tr><td>Survivors</td><td>722</td><td>32.46%</td><td>290</td><td>40.62%</td></tr><tr><td>Non-survivors</td><td>1502</td><td>67.54%</td><td>424</td><td>59.38%</td></tr></table>"
      ],
      "text/plain": [
       "<ipy_table.IpyTable at 0x616e0f0>"
      ]
     },
     "execution_count": 7,
     "metadata": {},
     "output_type": "execute_result"
    }
   ],
   "source": [
    "# passengers and number of survivors based on Kaggle results\n",
    "kaggle_passengers = 2224\n",
    "kaggle_nonsurvivors = 1502\n",
    "kaggle_survivors = kaggle_passengers - kaggle_nonsurvivors \n",
    "\n",
    "# Count number of passengers and number of survivors in sample data\n",
    "sample_passengers = len(titanic_function)\n",
    "sample_survivors = len(titanic_function[titanic_function.Survived==True])\n",
    "sample_nonsurvivors = sample_passengers - sample_survivors\n",
    "\n",
    "\n",
    "survivors_data = titanic_function[titanic_function.Survived==True]\n",
    "non_survivors_data = titanic_function[titanic_function.Survived==False]\n",
    "\n",
    "survivors = [\n",
    "    ['Item','Kaggle (Count)','Kaggle (%)' ,'Sample Dataset (Count)', 'Sample Dataset (%)'],\n",
    "    ['Total Passengers',kaggle_passengers,'-', sample_passengers,'-'],\n",
    "    ['Survivors',\n",
    "         kaggle_survivors,\n",
    "         calculate_percentage(kaggle_survivors,kaggle_passengers, True), \n",
    "         sample_survivors,\n",
    "         calculate_percentage(sample_survivors,sample_passengers, True) \n",
    "    ],\n",
    "    ['Non-survivors', \n",
    "         kaggle_nonsurvivors,\n",
    "         calculate_percentage(kaggle_nonsurvivors,kaggle_passengers, True), \n",
    "         sample_nonsurvivors,\n",
    "         calculate_percentage(sample_nonsurvivors,sample_passengers, True) \n",
    "    ]\n",
    "]\n",
    "tbl.make_table(survivors)"
   ]
  },
  {
   "cell_type": "markdown",
   "metadata": {},
   "source": [
    "When comparing the number of survivors from the sample dataset to the actual number of survivors we can see that the percentage of survivors is realitively close to each other."
   ]
  },
  {
   "cell_type": "markdown",
   "metadata": {},
   "source": [
    "# 3. Answering questions\n",
    "\n",
    "### 3.1 Is the phrase 'women and children first' valid for this event?\n",
    "\n",
    "Depending on age and sex,we try to plot how survivors are distrubuted based on the mentioned attributes(namely Age and Sex). To fin out if the passenger is a child or not, we're going to add a column *IsChild* with values 0 if age is greather than 18 and 1 if it's less than or equal 18."
   ]
  },
  {
   "cell_type": "code",
   "execution_count": 50,
   "metadata": {
    "collapsed": true
   },
   "outputs": [],
   "source": [
    "def isChild(x):\n",
    "    if x > 18:\n",
    "        return 'adult'\n",
    "    else:\n",
    "        return 'child'\n",
    "titanic_function[\"IsChild\"] = pd.Series(titanic_function[\"Age\"].apply(isChild), index=titanic_function.index)\n"
   ]
  },
  {
   "cell_type": "code",
   "execution_count": 51,
   "metadata": {},
   "outputs": [
    {
     "data": {
      "image/png": "[encoded data removed]",
      "text/plain": [
       "<matplotlib.figure.Figure at 0xc5674e0>"
      ]
     },
     "metadata": {},
     "output_type": "display_data"
    },
    {
     "data": {
      "image/png": "[encoded data removed]",
      "text/plain": [
       "<matplotlib.figure.Figure at 0xf1e4c50>"
      ]
     },
     "metadata": {},
     "output_type": "display_data"
    }
   ],
   "source": [
    "\n",
    "sns.set(style=\"darkgrid\")\n",
    "sns.barplot(data=titanic_function,x=\"Sex\",y=\"Survived\", palette=\"Set1\",hue=\"Sex\")\n",
    "sns.plt.show()\n",
    "sns.barplot(data=titanic_function,x=\"IsChild\",y=\"Survived\",hue=\"IsChild\", palette=\"Set1\")\n",
    "sns.plt.show()"
   ]
  },
  {
   "cell_type": "markdown",
   "metadata": {},
   "source": [
    "In the first plot, the red bar represents the men survived and blue represents women survived in the whole event.\n",
    "In the second plot, the red plot comprises of adults surviving and blue bar represent the children surviving."
   ]
  },
  {
   "cell_type": "markdown",
   "metadata": {},
   "source": [
    "From the above obtained plots, we can clearly recognize that the probablity of survival is much greater in woman as compared to the survival of men.Analoguously we can also observe that the prbablity of survival greater in children than compared to the adults.<br>\n",
    "Ergo we can confirm in this case that it was true that *women and children first* and it was applicable to this dataset of the titanic survivors.\n"
   ]
  },
  {
   "cell_type": "code",
   "execution_count": 52,
   "metadata": {},
   "outputs": [
    {
     "data": {
      "image/png": "[encoded data removed]",
      "text/plain": [
       "<matplotlib.figure.Figure at 0xeac8358>"
      ]
     },
     "metadata": {},
     "output_type": "display_data"
    }
   ],
   "source": [
    "sns.barplot(data=titanic_function, x=\"Sex\", y=\"Survived\", hue=\"IsChild\", palette=\"muted\")\n",
    "sns.plt.show()"
   ]
  },
  {
   "cell_type": "markdown",
   "metadata": {},
   "source": [
    "In the above plot , we confirm that female children had less survival mean than adults females."
   ]
  },
  {
   "cell_type": "markdown",
   "metadata": {},
   "source": [
    "### 3.2 Did Man with children or spouse had more chances of survival?\n",
    "\n",
    "In order to ascertain if the man with children or spouse had more chances of survival, we were are going to create a new categorized field *FamilyMan* with value 3 values depending if he is Single, Husband, or Father(husband with kids).<br>\n",
    "We have to know that in this case we are going to work with a subset of males that are not child. Once we have just adult men subset, we can't know if he had spouse or sibling so we asume *SibSp* field refers to spouse."
   ]
  },
  {
   "cell_type": "code",
   "execution_count": 54,
   "metadata": {},
   "outputs": [
    {
     "name": "stdout",
     "output_type": "stream",
     "text": [
      "Single     299\n",
      "Husband     59\n",
      "Father      24\n",
      "Name: FamilyMan, dtype: int64\n"
     ]
    }
   ],
   "source": [
    "import warnings\n",
    "warnings.filterwarnings('ignore')\n",
    "\n",
    "def isAdultMan(x):\n",
    "    return x[\"IsChild\"] == 'adult' and x[\"Sex\"] == \"male\"\n",
    "\n",
    "man_titanic_function = titanic_function[titanic_function.apply(isAdultMan, axis=1)]\n",
    "\n",
    "def isFamilyMan(x):\n",
    "    if x[\"SibSp\"] > 0:\n",
    "        if x[\"Parch\"] > 0:\n",
    "            return \"Father\"\n",
    "        else:\n",
    "            return \"Husband\"\n",
    "    else:\n",
    "        return \"Single\"\n",
    "man_titanic_function[\"FamilyMan\"] = pd.Series(man_titanic_function.apply(isFamilyMan, axis=1), index=man_titanic_function.index)\n",
    "print man_titanic_function[\"FamilyMan\"].value_counts()"
   ]
  },
  {
   "cell_type": "code",
   "execution_count": 39,
   "metadata": {
    "scrolled": true
   },
   "outputs": [
    {
     "data": {
      "image/png": "[encoded data removed]",
      "text/plain": [
       "<matplotlib.figure.Figure at 0xe546c50>"
      ]
     },
     "metadata": {},
     "output_type": "display_data"
    }
   ],
   "source": [
    "sns.factorplot(data=man_titanic_function,x=\"Survived\", col=\"FamilyMan\", kind=\"count\",palette=\"husl\")\n",
    "sns.plt.show()"
   ]
  },
  {
   "cell_type": "markdown",
   "metadata": {},
   "source": [
    "After comparing all the three plots above, we can find out that Husbands had higher chance of survival as compared to Fathers and Fathers had higher chance of survival as compared to Singles. <br>\n",
    "We can find out the percentage of survival of each of the three defined category of men adults by the following code snippet \n",
    "<center>&#129155;</center>"
   ]
  },
  {
   "cell_type": "code",
   "execution_count": 55,
   "metadata": {},
   "outputs": [
    {
     "name": "stdout",
     "output_type": "stream",
     "text": [
      "Percent of Singles survived: 17.0568561873\n",
      "Percent of Husbands survived: 23.7288135593\n",
      "Percent of Fathers survived: 16.6666666667\n"
     ]
    }
   ],
   "source": [
    "def percentSurvived(x, type):\n",
    "    sub = x[x[\"FamilyMan\"] == type]\n",
    "    total = len(sub)\n",
    "    survived = sum(sub[\"Survived\"] == 1)\n",
    "    return float(survived)/total * 100\n",
    "\n",
    "print \"Percent of Singles survived:\", percentSurvived(man_titanic_function,\"Single\")\n",
    "print \"Percent of Husbands survived:\", percentSurvived(man_titanic_function,\"Husband\")\n",
    "print \"Percent of Fathers survived:\", percentSurvived(man_titanic_function,\"Father\")"
   ]
  },
  {
   "cell_type": "markdown",
   "metadata": {},
   "source": [
    "We can appreciate a difference in the percent of survived husbands."
   ]
  },
  {
   "cell_type": "markdown",
   "metadata": {},
   "source": [
    "### 3.3 The comparision of survival by Class and Gender.\n",
    "\n",
    "In this point we are going to plot the three fields join and see what can we conclude."
   ]
  },
  {
   "cell_type": "code",
   "execution_count": 56,
   "metadata": {},
   "outputs": [
    {
     "data": {
      "image/png": "[encoded data removed]",
      "text/plain": [
       "<matplotlib.figure.Figure at 0xc9c5c18>"
      ]
     },
     "metadata": {},
     "output_type": "display_data"
    }
   ],
   "source": [
    "sns.barplot(data=titanic_function, x=\"Sex\", y=\"Survived\", hue=\"Pclass\", palette=\"GnBu_d\")\n",
    "sns.plt.show()"
   ]
  },
  {
   "cell_type": "markdown",
   "metadata": {},
   "source": [
    "Pertaining to the above plotted graph, we can make following observations:-\n",
    "<br>\n",
    "1) The number of females survived in 1<sup>st</sup> class and 2<sup>nd</sup>class almost doubles that of the number of females survived in 3<sup>rd</sup>class. As a result we can advert our attention to the fact that 1<sup>st</sup> class and 2<sup>nd</sup>class females had much better chance of survival than compared to 3<sup>rd</sup> class female travellers.\n",
    "<br>\n",
    "2) In case of men, just the first class have difference in survived mean. The 2<sup>nd</sup>class and 3<sup>rd</sup>class have same number of men surviving\n",
    "<br>\n",
    "3) As we noticed in **_2.3.1_**, we once again notice that men had lower chance of survival as compared to that of women. "
   ]
  },
  {
   "cell_type": "markdown",
   "metadata": {},
   "source": [
    "### 3.4 Did first class passengers more chances of survive?\n",
    "In the above questions, we found out that there was a striking differences between the means of survival amongst different classes. Now we will try to analyze the same without differentiating the genders as two different categories(Male and Female)"
   ]
  },
  {
   "cell_type": "code",
   "execution_count": 57,
   "metadata": {},
   "outputs": [
    {
     "data": {
      "image/png": "[encoded data removed]",
      "text/plain": [
       "<matplotlib.figure.Figure at 0xc95d6d8>"
      ]
     },
     "metadata": {},
     "output_type": "display_data"
    }
   ],
   "source": [
    "sns.barplot(data=titanic_function, x=\"Pclass\", y=\"Survived\", palette=\"pastel\")\n",
    "sns.plt.show()"
   ]
  },
  {
   "cell_type": "markdown",
   "metadata": {},
   "source": [
    "##### Analysis of the above plots\n",
    "\n",
    "The above plot compares the survival rate between the three different types of travel classes,namely\n",
    "<ol>\n",
    "<li>1<sup>st</sup>Class\n",
    "<li>2<sup>nd</sup>Class\n",
    "<li>3<sup>rd</sup>Class\n",
    "</ol>\n",
    "<br>\n",
    "The plot explains by graphical and pictorial means that the surival rate of 1<sup>st</sup>Class class was greatest amongst the three different classes while the survival of 3<sup>rd</sup>Class was the least, hence answering our question that First class passengers did indeed have better chances of survival."
   ]
  },
  {
   "cell_type": "markdown",
   "metadata": {},
   "source": [
    "### 3.5 What is the best age for survival in the given data set?\n",
    "We begin investigating the above question by plotting the distribution of survivors by age."
   ]
  },
  {
   "cell_type": "code",
   "execution_count": 58,
   "metadata": {},
   "outputs": [
    {
     "data": {
      "image/png": "[encoded data removed]",
      "text/plain": [
       "<matplotlib.figure.Figure at 0xd4e37b8>"
      ]
     },
     "metadata": {},
     "output_type": "display_data"
    }
   ],
   "source": [
    "survivors_ages = titanic_function[titanic_function[\"Survived\"] == 1][\"Age\"]\n",
    "ax = sns.distplot(survivors_ages)\n",
    "ax.set(xlabel='Age', ylabel='Percent Survivors')\n",
    "sns.plt.show()"
   ]
  },
  {
   "cell_type": "markdown",
   "metadata": {},
   "source": [
    "In this plot we can see that most of the survivors had an age from 20 to 40 but, what happens if we also compare not survivors as well?"
   ]
  },
  {
   "cell_type": "code",
   "execution_count": 59,
   "metadata": {},
   "outputs": [
    {
     "data": {
      "image/png": "[encoded data removed]",
      "text/plain": [
       "<matplotlib.figure.Figure at 0xc5eeac8>"
      ]
     },
     "metadata": {},
     "output_type": "display_data"
    }
   ],
   "source": [
    "sns.jointplot(\"Age\", \"Survived\", data=titanic_function,\n",
    "                   kind=\"kde\", space=0, color=\"g\")\n",
    "sns.plt.show()"
   ]
  },
  {
   "cell_type": "markdown",
   "metadata": {},
   "source": [
    "We also see that not survivors mostly had between 20 and 40 years old. \n",
    "<br>So,we are going to calculate the percentage of survivors for each age."
   ]
  },
  {
   "cell_type": "code",
   "execution_count": 60,
   "metadata": {},
   "outputs": [
    {
     "data": {
      "text/plain": [
       "<matplotlib.axes._subplots.AxesSubplot at 0xecc5128>"
      ]
     },
     "execution_count": 60,
     "metadata": {},
     "output_type": "execute_result"
    },
    {
     "data": {
      "image/png": "[encoded data removed]",
      "text/plain": [
       "<matplotlib.figure.Figure at 0xecc1c50>"
      ]
     },
     "metadata": {},
     "output_type": "display_data"
    }
   ],
   "source": [
    "max_age = int(titanic_function[\"Age\"].max())\n",
    "age_dist = pd.DataFrame(index=xrange(max_age),columns=[\"Survived\", \"NotSurvived\"])\n",
    "age_dist = age_dist.fillna(0)\n",
    "for age in age_dist.index:\n",
    "    age_survive = titanic_function[titanic_function[\"Age\"].astype(int) == age][\"Survived\"]\n",
    "    age_dist.loc[age, \"NotSurvived\"] = sum(age_survive == 0)\n",
    "    age_dist.loc[age, \"Survived\"] = sum(age_survive == 1)\n",
    "\n",
    "survived_proportions = age_dist.Survived / age_dist.sum(axis=\"columns\")\n",
    "survived_proportions = survived_proportions.fillna(0)\n",
    "survived_proportions.index.name = \"Age\"\n",
    "survived_proportions.name = \"Percent survivors\"\n",
    "survived_proportions.plot(kind=\"bar\", figsize=(20,4),legend=True)"
   ]
  },
  {
   "cell_type": "markdown",
   "metadata": {},
   "source": [
    "This plot shows the percentage of survived person by age. We see that there are some ages with 100% of survivors. These are 0, 5, 12, 13, 53 and 63 years old. \n",
    "<br>However,in order to choose one age for best survival, lets take the one with the most survivors."
   ]
  },
  {
   "cell_type": "code",
   "execution_count": 61,
   "metadata": {},
   "outputs": [
    {
     "name": "stdout",
     "output_type": "stream",
     "text": [
      "Maximum number of survived passengers:  7\n",
      "Best survive age:  0\n"
     ]
    }
   ],
   "source": [
    "print \"Maximum number of survived passengers: \", age_dist.loc[[0, 5, 12, 13, 53, 63]].Survived.max()\n",
    "print \"Best survive age: \", age_dist.loc[[0,5, 12, 13, 53, 63]].Survived.idxmax()"
   ]
  },
  {
   "cell_type": "markdown",
   "metadata": {},
   "source": [
    "## 4. Conclusions\n",
    "\n",
    "## 4.1 Insights:-\n",
    "In the previous answers, we've assumed there is no difference between proportions for each sample. But what happens if this is not true? <br>\n",
    "There is a way to know if this difference is significant and therefore the conclusion given in the answers may not be true. With a two-proportion z-test we can determine wether the difference between two proportions is significant.\n",
    "\n",
    "So in the first question, *Is the phrase 'women and children first' valid for this event?*, we observed that the survivors mean was higher in female than in male and also the same in children agains adults.\n",
    "\n",
    "Let's conduct a hypothesis test to see if there is a significant difference between proportions. In first place, male and female:\n",
    "\n",
    "$$H_{0} : P_{male} - P_{female} = 0$$ $$H_{A} : P_{male} - P_{female} \\neq 0$$"
   ]
  },
  {
   "cell_type": "code",
   "execution_count": 62,
   "metadata": {},
   "outputs": [
    {
     "name": "stdout",
     "output_type": "stream",
     "text": [
      "total people : 714\n",
      "males : 453\n",
      "females : 261\n"
     ]
    }
   ],
   "source": [
    "male = titanic_function[titanic_function[\"Sex\"]== \"male\"]\n",
    "female = titanic_function[titanic_function[\"Sex\"]== \"female\"]\n",
    "total_people = len(male) + len(female)\n",
    "print \"total people :\", total_people\n",
    "print \"males :\", len(male)\n",
    "print \"females :\", len(female)"
   ]
  },
  {
   "cell_type": "markdown",
   "metadata": {},
   "source": [
    "To be able to perform the test, the following four counditions need to be met:\n",
    "    \n",
    "   * The sampling method for each population is simple random sampling.\n",
    "   * The samples are independent.\n",
    "   * Each sample includes at least 10 successes and 10 failures.\n",
    "   * Each population is at least 20 times as big as its sample.\n",
    "   \n",
    "And in this case not all the conditions are true, the population is not 20 times bigger, but we are going to assume it's enough.\n",
    "\n",
    "So lets continue the test, using the **two-proportion z-test** and a significance level ** $\\alpha = 0.05 $ **\n",
    "\n",
    "**Pooled sample proportion**:\n",
    "$$p = \\frac{p_{male} * n_{male} + p_{female} * n_{female}}{n_{male} + n_{female}}$$\n",
    "**Standard error**:\n",
    "$$SE = \\sqrt{p * (1-p) * (\\frac{1}{n_{male}} + \\frac{1}{n_{female}})}$$\n",
    "**Test statistic**:\n",
    "$$z = \\frac{p_{male} - p_{female}}{SE}$$\n"
   ]
  },
  {
   "cell_type": "code",
   "execution_count": 24,
   "metadata": {},
   "outputs": [
    {
     "name": "stdout",
     "output_type": "stream",
     "text": [
      "p : 0.406162464986\n",
      "SE :  0.0381648418165\n",
      "z : -14.3978392843\n"
     ]
    }
   ],
   "source": [
    "import math\n",
    "p_male = float(len(male[male[\"Survived\"] == 1])) / len(male)\n",
    "p_female = float(len(female[female[\"Survived\"] == 1])) / len(female)\n",
    "p = (p_male * len(male) + p_female * len(female)) / total_people\n",
    "print \"p :\", p\n",
    "SE = math.sqrt(p * ( 1 - p ) * ( float(1)/len(male) + float(1)/len(female) ))\n",
    "print \"SE : \", SE\n",
    "z = (p_male - p_female) / SE\n",
    "print \"z :\", z"
   ]
  },
  {
   "cell_type": "markdown",
   "metadata": {},
   "source": [
    "Given that z-score, the P-value is going to be very very small (smaller than our significance level 0.05). So we can consider reject the null hypothesis and say that in this scenario there is a significant difference between proportions.\n",
    "\n",
    "Doing the same with child/adult scenario, values are:"
   ]
  },
  {
   "cell_type": "code",
   "execution_count": 63,
   "metadata": {},
   "outputs": [
    {
     "name": "stdout",
     "output_type": "stream",
     "text": [
      "total people : 714\n",
      "childs : 575\n",
      "adults : 139\n",
      "p : 0.406162464986\n",
      "SE :  0.0464185423935\n",
      "z : -2.60646759703\n"
     ]
    }
   ],
   "source": [
    "child = titanic_function[titanic_function[\"IsChild\"]== 'adult']\n",
    "adult = titanic_function[titanic_function[\"IsChild\"]== 'child']\n",
    "print \"total people :\", total_people\n",
    "print \"childs :\", len(child)\n",
    "print \"adults :\", len(adult)\n",
    "p_child = float(len(child[child[\"Survived\"] == 1])) / len(child)\n",
    "p_adult = float(len(adult[adult[\"Survived\"] == 1])) / len(adult)\n",
    "p = (p_child * len(child) + p_adult * len(adult)) / total_people\n",
    "print \"p :\", p\n",
    "SE = math.sqrt(p * ( 1 - p ) * ( float(1)/len(child) + float(1)/len(adult) ))\n",
    "print \"SE : \", SE\n",
    "z = (p_child - p_adult) / SE\n",
    "print \"z :\", z"
   ]
  },
  {
   "cell_type": "markdown",
   "metadata": {},
   "source": [
    "And the P-value for P(z > 2.606) = 0.0039 in a two-tailed test is 0.0039 + 0.0039. So **P-value = 0.0078**, smaller than 0.05 and again the difference between proportions are significant.\n",
    "\n",
    "You can see that this same test can be done with many other answers (all where proportions are compared).\n",
    "\n",
    "The main conclusion about these questions is that the data set is not a good sample to perform some analysis and made conclusions about the population."
   ]
  },
  {
   "cell_type": "markdown",
   "metadata": {},
   "source": [
    "## 4.2 Limitations of dataset\n",
    "The are a number of limitations with the Titanic Dataset, which are caused by:\n",
    "- missing data\n",
    "- only been a sample of the data\n",
    "\n",
    "The missing data and size of the sample could skew the results for example the missing ages."
   ]
  },
  {
   "cell_type": "markdown",
   "metadata": {},
   "source": [
    "## 4.3 Other variables\n",
    "As with most datasets the more information we have the better it can be analysed. I believe that we could add the following variables:\n",
    "- passenger or crew - the current dataset doesn't distingush between passenger or crew, however from history we know that a mixture of both survived.\n",
    "- life boat number - the reason why there were so many fatalities on board the Titanic was due to there not been enough lifeboats. I believe that if we knew the lifeboat number and the capacity of a lifeboat we could determine if it was possible for more people to survive"
   ]
  },
  {
   "cell_type": "markdown",
   "metadata": {},
   "source": [
    "## Appendix A\n",
    "\n",
    "### Sources\n",
    "\n",
    "The list of sources used to complete this investigation is:\n",
    "<ul>\n",
    "   <li> Test statistics for difference between proportions (http://stattrek.com/hypothesis-test/difference-in-proportions.aspx)\n",
    "   <li> Seaborn statistical data visualization reference page (http://stanford.edu/~mwaskom/software/seaborn/)\n",
    "   <li> Pandas documentation (http://pandas.pydata.org/pandas-docs/stable/#)\n",
    "   <li> Kaggle titanic competition page (https://www.kaggle.com/c/titanic)\n",
    "   <li> Color Palette syntax by Seaborn (https://seaborn.pydata.org/generated/seaborn.color_palette.html#seaborn.color_palette)\n",
    "   <li> Titanic dataset provided by Udacity\n",
    "</ul>   "
   ]
  }
 ],
 "metadata": {
  "kernelspec": {
   "display_name": "Python [default]",
   "language": "python",
   "name": "python2"
  },
  "language_info": {
   "codemirror_mode": {
    "name": "ipython",
    "version": 2
   },
   "file_extension": ".py",
   "mimetype": "text/x-python",
   "name": "python",
   "nbconvert_exporter": "python",
   "pygments_lexer": "ipython2",
   "version": "2.7.13"
  }
 },
 "nbformat": 4,
 "nbformat_minor": 1
}
